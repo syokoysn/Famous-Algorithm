{
 "cells": [
  {
   "cell_type": "code",
   "execution_count": 2,
   "metadata": {},
   "outputs": [],
   "source": [
    "import gurobipy as gb\n",
    "import networkx as nx"
   ]
  },
  {
   "cell_type": "code",
   "execution_count": 4,
   "metadata": {},
   "outputs": [],
   "source": [
    "def addcut(edges):\n",
    "    G = nx.Graph()\n",
    "    G.add_nodes_from(V)\n",
    "    for i, j in edges :\n",
    "        G.add_edge(i, j)\n",
    "        \n",
    "    Components = nx.connected_components(G)\n",
    "    if len(Components) == 1:\n",
    "        return False\n",
    "    for S in Components :\n",
    "        model.addConstr(gb.quicksum(x[i,j] for i in S for j in S if j> i)<= len(S)-1)\n",
    "    return True"
   ]
  },
  {
   "cell_type": "code",
   "execution_count": 5,
   "metadata": {},
   "outputs": [],
   "source": [
    "def solve_tsp(V, c):\n",
    "    model = gb.Model()\n",
    "    x = {}\n",
    "    for i in V :\n",
    "        for j in V :\n",
    "            if j > i :\n",
    "                x[i, j] = model.addVar(ub = 1)\n",
    "    model.update()\n",
    "    for i in V:\n",
    "        model.addConstr(gb.quicksum(x[j, i] for j in V if j< i)+gb.quicksum(x[i, j] for j in V if j > i) == 2)\n",
    "    model.setObjective(gb.quicksum(c[i,j]*x[i,j] for i in V for j in V if j> i), gb.GRB.MINIMIZE)\n",
    "    \n",
    "    ESP = 1.e-6\n",
    "    while True :\n",
    "        model.optimize()\n",
    "        edges = []\n",
    "        for i,j in x :\n",
    "            if x[i, j].X > ESP :\n",
    "                edges.append((i,j))\n",
    "        if addcut(edges) == False :\n",
    "            if model.IsMIP :\n",
    "                break\n",
    "            for i,j in x :\n",
    "                x[i,j].VType = 'B'\n",
    "            model.update()\n",
    "            \n",
    "    return mode.ObjVal, edges"
   ]
  },
  {
   "cell_type": "code",
   "execution_count": null,
   "metadata": {},
   "outputs": [],
   "source": []
  }
 ],
 "metadata": {
  "kernelspec": {
   "display_name": "Python 3",
   "language": "python",
   "name": "python3"
  },
  "language_info": {
   "codemirror_mode": {
    "name": "ipython",
    "version": 3
   },
   "file_extension": ".py",
   "mimetype": "text/x-python",
   "name": "python",
   "nbconvert_exporter": "python",
   "pygments_lexer": "ipython3",
   "version": "3.6.5"
  }
 },
 "nbformat": 4,
 "nbformat_minor": 2
}
